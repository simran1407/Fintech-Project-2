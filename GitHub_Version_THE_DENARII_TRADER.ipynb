{
 "cells": [
  {
   "cell_type": "markdown",
   "metadata": {
    "id": "v2hNwREbycRZ"
   },
   "source": [
    "#Installation"
   ]
  },
  {
   "cell_type": "code",
   "execution_count": 1,
   "metadata": {
    "colab": {
     "base_uri": "https://localhost:8080/"
    },
    "id": "PWqWY6_QyfYL",
    "outputId": "0cb7cee5-03b4-472b-e116-bcd2912f748d"
   },
   "outputs": [
    {
     "name": "stdout",
     "output_type": "stream",
     "text": [
      "Requirement already satisfied: yfinance in /Users/yuwang/opt/anaconda3/envs/pyviz/lib/python3.7/site-packages (0.1.59)\n",
      "Requirement already satisfied: requests>=2.20 in /Users/yuwang/opt/anaconda3/envs/pyviz/lib/python3.7/site-packages (from yfinance) (2.25.1)\n",
      "Requirement already satisfied: numpy>=1.15 in /Users/yuwang/opt/anaconda3/envs/pyviz/lib/python3.7/site-packages (from yfinance) (1.20.2)\n",
      "Requirement already satisfied: pandas>=0.24 in /Users/yuwang/opt/anaconda3/envs/pyviz/lib/python3.7/site-packages (from yfinance) (1.2.4)\n",
      "Requirement already satisfied: lxml>=4.5.1 in /Users/yuwang/opt/anaconda3/envs/pyviz/lib/python3.7/site-packages (from yfinance) (4.6.3)\n",
      "Requirement already satisfied: multitasking>=0.0.7 in /Users/yuwang/opt/anaconda3/envs/pyviz/lib/python3.7/site-packages (from yfinance) (0.0.9)\n",
      "Requirement already satisfied: python-dateutil>=2.7.3 in /Users/yuwang/opt/anaconda3/envs/pyviz/lib/python3.7/site-packages (from pandas>=0.24->yfinance) (2.8.1)\n",
      "Requirement already satisfied: pytz>=2017.3 in /Users/yuwang/opt/anaconda3/envs/pyviz/lib/python3.7/site-packages (from pandas>=0.24->yfinance) (2021.1)\n",
      "Requirement already satisfied: six>=1.5 in /Users/yuwang/opt/anaconda3/envs/pyviz/lib/python3.7/site-packages (from python-dateutil>=2.7.3->pandas>=0.24->yfinance) (1.15.0)\n",
      "Requirement already satisfied: certifi>=2017.4.17 in /Users/yuwang/opt/anaconda3/envs/pyviz/lib/python3.7/site-packages (from requests>=2.20->yfinance) (2021.5.30)\n",
      "Requirement already satisfied: idna<3,>=2.5 in /Users/yuwang/opt/anaconda3/envs/pyviz/lib/python3.7/site-packages (from requests>=2.20->yfinance) (2.10)\n",
      "Requirement already satisfied: chardet<5,>=3.0.2 in /Users/yuwang/opt/anaconda3/envs/pyviz/lib/python3.7/site-packages (from requests>=2.20->yfinance) (3.0.4)\n",
      "Requirement already satisfied: urllib3<1.27,>=1.21.1 in /Users/yuwang/.local/lib/python3.7/site-packages (from requests>=2.20->yfinance) (1.24.3)\n",
      "\u001b[33mWARNING: Error parsing requirements for absl-py: [Errno 2] No such file or directory: '/Users/yuwang/opt/anaconda3/envs/pyviz/lib/python3.7/site-packages/absl_py-0.12.0.dist-info/METADATA'\u001b[0m\n",
      "Note: you may need to restart the kernel to use updated packages.\n"
     ]
    }
   ],
   "source": [
    "pip install yfinance"
   ]
  },
  {
   "cell_type": "code",
   "execution_count": 2,
   "metadata": {
    "colab": {
     "base_uri": "https://localhost:8080/"
    },
    "id": "3ZrKegxmylJK",
    "outputId": "59e0293d-a171-4463-f658-49d1c4a6ab45"
   },
   "outputs": [
    {
     "name": "stdout",
     "output_type": "stream",
     "text": [
      "Collecting tensorflow\n",
      "  Using cached tensorflow-2.5.0-cp37-cp37m-macosx_10_11_x86_64.whl (195.6 MB)\n",
      "Collecting gast==0.4.0\n",
      "  Using cached gast-0.4.0-py3-none-any.whl (9.8 kB)\n",
      "Requirement already satisfied: tensorflow-estimator<2.6.0,>=2.5.0rc0 in /Users/yuwang/opt/anaconda3/envs/pyviz/lib/python3.7/site-packages (from tensorflow) (2.5.0)\n",
      "Requirement already satisfied: tensorboard~=2.5 in /Users/yuwang/opt/anaconda3/envs/pyviz/lib/python3.7/site-packages (from tensorflow) (2.5.0)\n",
      "Requirement already satisfied: typing-extensions~=3.7.4 in /Users/yuwang/opt/anaconda3/envs/pyviz/lib/python3.7/site-packages (from tensorflow) (3.7.4.3)\n",
      "Requirement already satisfied: astunparse~=1.6.3 in /Users/yuwang/opt/anaconda3/envs/pyviz/lib/python3.7/site-packages (from tensorflow) (1.6.3)\n",
      "Requirement already satisfied: opt-einsum~=3.3.0 in /Users/yuwang/opt/anaconda3/envs/pyviz/lib/python3.7/site-packages (from tensorflow) (3.3.0)\n",
      "Requirement already satisfied: flatbuffers~=1.12.0 in /Users/yuwang/opt/anaconda3/envs/pyviz/lib/python3.7/site-packages (from tensorflow) (1.12)\n",
      "Requirement already satisfied: grpcio~=1.34.0 in /Users/yuwang/opt/anaconda3/envs/pyviz/lib/python3.7/site-packages (from tensorflow) (1.34.1)\n",
      "Collecting keras-preprocessing~=1.1.2\n",
      "  Using cached Keras_Preprocessing-1.1.2-py2.py3-none-any.whl (42 kB)\n",
      "Requirement already satisfied: keras-nightly~=2.5.0.dev in /Users/yuwang/opt/anaconda3/envs/pyviz/lib/python3.7/site-packages (from tensorflow) (2.5.0.dev2021032900)\n",
      "Requirement already satisfied: google-pasta~=0.2 in /Users/yuwang/opt/anaconda3/envs/pyviz/lib/python3.7/site-packages (from tensorflow) (0.2.0)\n",
      "Requirement already satisfied: absl-py~=0.10 in /Users/yuwang/opt/anaconda3/envs/pyviz/lib/python3.7/site-packages (from tensorflow) (0.12.0)\n",
      "Collecting numpy~=1.19.2\n",
      "  Using cached numpy-1.19.5-cp37-cp37m-macosx_10_9_x86_64.whl (15.6 MB)\n",
      "Requirement already satisfied: protobuf>=3.9.2 in /Users/yuwang/opt/anaconda3/envs/pyviz/lib/python3.7/site-packages (from tensorflow) (3.14.0)\n",
      "Requirement already satisfied: six~=1.15.0 in /Users/yuwang/opt/anaconda3/envs/pyviz/lib/python3.7/site-packages (from tensorflow) (1.15.0)\n",
      "Requirement already satisfied: h5py~=3.1.0 in /Users/yuwang/opt/anaconda3/envs/pyviz/lib/python3.7/site-packages (from tensorflow) (3.1.0)\n",
      "Requirement already satisfied: termcolor~=1.1.0 in /Users/yuwang/opt/anaconda3/envs/pyviz/lib/python3.7/site-packages (from tensorflow) (1.1.0)\n",
      "Requirement already satisfied: wheel~=0.35 in /Users/yuwang/opt/anaconda3/envs/pyviz/lib/python3.7/site-packages (from tensorflow) (0.36.2)\n",
      "Requirement already satisfied: wrapt~=1.12.1 in /Users/yuwang/opt/anaconda3/envs/pyviz/lib/python3.7/site-packages (from tensorflow) (1.12.1)\n",
      "\u001b[31mERROR: Could not install packages due to an OSError: [Errno 2] No such file or directory: '/Users/yuwang/opt/anaconda3/envs/pyviz/lib/python3.7/site-packages/absl_py-0.12.0.dist-info/METADATA'\n",
      "\u001b[0m\n"
     ]
    }
   ],
   "source": [
    "!pip install tensorflow"
   ]
  },
  {
   "cell_type": "code",
   "execution_count": 3,
   "metadata": {
    "colab": {
     "base_uri": "https://localhost:8080/"
    },
    "id": "CHHsB3AEyn4R",
    "outputId": "bd271df7-8784-4452-a024-445de95b1419"
   },
   "outputs": [
    {
     "name": "stdout",
     "output_type": "stream",
     "text": [
      "Collecting tensorflow\n",
      "  Using cached tensorflow-2.5.0-cp37-cp37m-macosx_10_11_x86_64.whl (195.6 MB)\n",
      "Requirement already satisfied: protobuf>=3.9.2 in /Users/yuwang/opt/anaconda3/envs/pyviz/lib/python3.7/site-packages (from tensorflow) (3.14.0)\n",
      "Requirement already satisfied: grpcio~=1.34.0 in /Users/yuwang/opt/anaconda3/envs/pyviz/lib/python3.7/site-packages (from tensorflow) (1.34.1)\n",
      "Requirement already satisfied: flatbuffers~=1.12.0 in /Users/yuwang/opt/anaconda3/envs/pyviz/lib/python3.7/site-packages (from tensorflow) (1.12)\n",
      "Collecting numpy~=1.19.2\n",
      "  Using cached numpy-1.19.5-cp37-cp37m-macosx_10_9_x86_64.whl (15.6 MB)\n",
      "Requirement already satisfied: h5py~=3.1.0 in /Users/yuwang/opt/anaconda3/envs/pyviz/lib/python3.7/site-packages (from tensorflow) (3.1.0)\n",
      "Requirement already satisfied: opt-einsum~=3.3.0 in /Users/yuwang/opt/anaconda3/envs/pyviz/lib/python3.7/site-packages (from tensorflow) (3.3.0)\n",
      "Requirement already satisfied: tensorflow-estimator<2.6.0,>=2.5.0rc0 in /Users/yuwang/opt/anaconda3/envs/pyviz/lib/python3.7/site-packages (from tensorflow) (2.5.0)\n",
      "Requirement already satisfied: typing-extensions~=3.7.4 in /Users/yuwang/opt/anaconda3/envs/pyviz/lib/python3.7/site-packages (from tensorflow) (3.7.4.3)\n",
      "Requirement already satisfied: wheel~=0.35 in /Users/yuwang/opt/anaconda3/envs/pyviz/lib/python3.7/site-packages (from tensorflow) (0.36.2)\n",
      "Requirement already satisfied: astunparse~=1.6.3 in /Users/yuwang/opt/anaconda3/envs/pyviz/lib/python3.7/site-packages (from tensorflow) (1.6.3)\n",
      "Requirement already satisfied: tensorboard~=2.5 in /Users/yuwang/opt/anaconda3/envs/pyviz/lib/python3.7/site-packages (from tensorflow) (2.5.0)\n",
      "Requirement already satisfied: wrapt~=1.12.1 in /Users/yuwang/opt/anaconda3/envs/pyviz/lib/python3.7/site-packages (from tensorflow) (1.12.1)\n",
      "Collecting keras-preprocessing~=1.1.2\n",
      "  Using cached Keras_Preprocessing-1.1.2-py2.py3-none-any.whl (42 kB)\n",
      "Requirement already satisfied: google-pasta~=0.2 in /Users/yuwang/opt/anaconda3/envs/pyviz/lib/python3.7/site-packages (from tensorflow) (0.2.0)\n",
      "Requirement already satisfied: absl-py~=0.10 in /Users/yuwang/opt/anaconda3/envs/pyviz/lib/python3.7/site-packages (from tensorflow) (0.12.0)\n",
      "Requirement already satisfied: keras-nightly~=2.5.0.dev in /Users/yuwang/opt/anaconda3/envs/pyviz/lib/python3.7/site-packages (from tensorflow) (2.5.0.dev2021032900)\n",
      "Requirement already satisfied: six~=1.15.0 in /Users/yuwang/opt/anaconda3/envs/pyviz/lib/python3.7/site-packages (from tensorflow) (1.15.0)\n",
      "Requirement already satisfied: termcolor~=1.1.0 in /Users/yuwang/opt/anaconda3/envs/pyviz/lib/python3.7/site-packages (from tensorflow) (1.1.0)\n",
      "Collecting gast==0.4.0\n",
      "  Using cached gast-0.4.0-py3-none-any.whl (9.8 kB)\n",
      "\u001b[31mERROR: Could not install packages due to an OSError: [Errno 2] No such file or directory: '/Users/yuwang/opt/anaconda3/envs/pyviz/lib/python3.7/site-packages/absl_py-0.12.0.dist-info/METADATA'\n",
      "\u001b[0m\n"
     ]
    }
   ],
   "source": [
    "! pip install tensorflow --upgrade"
   ]
  },
  {
   "cell_type": "code",
   "execution_count": 4,
   "metadata": {
    "colab": {
     "base_uri": "https://localhost:8080/"
    },
    "id": "iosLaLoIyrhO",
    "outputId": "6275445c-cfca-45d2-d0d3-0d6086559aad"
   },
   "outputs": [
    {
     "name": "stdout",
     "output_type": "stream",
     "text": [
      "Requirement already satisfied: arch in /Users/yuwang/opt/anaconda3/envs/pyviz/lib/python3.7/site-packages (4.13)\n",
      "Requirement already satisfied: scipy>=1.0.1 in /Users/yuwang/opt/anaconda3/envs/pyviz/lib/python3.7/site-packages (from arch) (1.6.2)\n",
      "Requirement already satisfied: cython>=0.29.14 in /Users/yuwang/opt/anaconda3/envs/pyviz/lib/python3.7/site-packages (from arch) (0.29.23)\n",
      "Requirement already satisfied: numpy>=1.14 in /Users/yuwang/opt/anaconda3/envs/pyviz/lib/python3.7/site-packages (from arch) (1.20.2)\n",
      "Requirement already satisfied: pandas>=0.23 in /Users/yuwang/opt/anaconda3/envs/pyviz/lib/python3.7/site-packages (from arch) (1.2.4)\n",
      "Requirement already satisfied: property-cached>=1.6.3 in /Users/yuwang/opt/anaconda3/envs/pyviz/lib/python3.7/site-packages (from arch) (1.6.4)\n",
      "Requirement already satisfied: statsmodels>=0.9 in /Users/yuwang/opt/anaconda3/envs/pyviz/lib/python3.7/site-packages (from arch) (0.12.2)\n",
      "Requirement already satisfied: python-dateutil>=2.7.3 in /Users/yuwang/opt/anaconda3/envs/pyviz/lib/python3.7/site-packages (from pandas>=0.23->arch) (2.8.1)\n",
      "Requirement already satisfied: pytz>=2017.3 in /Users/yuwang/opt/anaconda3/envs/pyviz/lib/python3.7/site-packages (from pandas>=0.23->arch) (2021.1)\n",
      "Requirement already satisfied: six>=1.5 in /Users/yuwang/opt/anaconda3/envs/pyviz/lib/python3.7/site-packages (from python-dateutil>=2.7.3->pandas>=0.23->arch) (1.15.0)\n",
      "Requirement already satisfied: patsy>=0.5 in /Users/yuwang/opt/anaconda3/envs/pyviz/lib/python3.7/site-packages (from statsmodels>=0.9->arch) (0.5.1)\n",
      "\u001b[33mWARNING: Error parsing requirements for absl-py: [Errno 2] No such file or directory: '/Users/yuwang/opt/anaconda3/envs/pyviz/lib/python3.7/site-packages/absl_py-0.12.0.dist-info/METADATA'\u001b[0m\n",
      "Note: you may need to restart the kernel to use updated packages.\n"
     ]
    }
   ],
   "source": [
    "pip install arch"
   ]
  },
  {
   "cell_type": "code",
   "execution_count": 5,
   "metadata": {
    "colab": {
     "base_uri": "https://localhost:8080/"
    },
    "id": "cC3aA6ZpytM5",
    "outputId": "f9c9f217-0906-4902-9c1b-8dcfc6c15f36"
   },
   "outputs": [
    {
     "name": "stdout",
     "output_type": "stream",
     "text": [
      "Requirement already satisfied: prophet in /Users/yuwang/opt/anaconda3/envs/pyviz/lib/python3.7/site-packages (1.0.1)\n",
      "Requirement already satisfied: Cython>=0.22 in /Users/yuwang/opt/anaconda3/envs/pyviz/lib/python3.7/site-packages (from prophet) (0.29.23)\n",
      "Requirement already satisfied: cmdstanpy==0.9.68 in /Users/yuwang/opt/anaconda3/envs/pyviz/lib/python3.7/site-packages (from prophet) (0.9.68)\n",
      "Requirement already satisfied: pystan~=2.19.1.1 in /Users/yuwang/opt/anaconda3/envs/pyviz/lib/python3.7/site-packages (from prophet) (2.19.1.1)\n",
      "Requirement already satisfied: numpy>=1.15.4 in /Users/yuwang/opt/anaconda3/envs/pyviz/lib/python3.7/site-packages (from prophet) (1.20.2)\n",
      "Requirement already satisfied: pandas>=1.0.4 in /Users/yuwang/opt/anaconda3/envs/pyviz/lib/python3.7/site-packages (from prophet) (1.2.4)\n",
      "Requirement already satisfied: matplotlib>=2.0.0 in /Users/yuwang/opt/anaconda3/envs/pyviz/lib/python3.7/site-packages (from prophet) (3.3.4)\n",
      "Requirement already satisfied: LunarCalendar>=0.0.9 in /Users/yuwang/opt/anaconda3/envs/pyviz/lib/python3.7/site-packages (from prophet) (0.0.9)\n",
      "Requirement already satisfied: convertdate>=2.1.2 in /Users/yuwang/opt/anaconda3/envs/pyviz/lib/python3.7/site-packages (from prophet) (2.3.2)\n",
      "Requirement already satisfied: holidays>=0.10.2 in /Users/yuwang/opt/anaconda3/envs/pyviz/lib/python3.7/site-packages (from prophet) (0.11.1)\n",
      "Requirement already satisfied: setuptools-git>=1.2 in /Users/yuwang/opt/anaconda3/envs/pyviz/lib/python3.7/site-packages (from prophet) (1.2)\n",
      "Requirement already satisfied: python-dateutil>=2.8.0 in /Users/yuwang/opt/anaconda3/envs/pyviz/lib/python3.7/site-packages (from prophet) (2.8.1)\n",
      "Requirement already satisfied: tqdm>=4.36.1 in /Users/yuwang/opt/anaconda3/envs/pyviz/lib/python3.7/site-packages (from prophet) (4.59.0)\n",
      "Requirement already satisfied: ujson in /Users/yuwang/opt/anaconda3/envs/pyviz/lib/python3.7/site-packages (from cmdstanpy==0.9.68->prophet) (4.0.2)\n",
      "Requirement already satisfied: pytz>=2014.10 in /Users/yuwang/opt/anaconda3/envs/pyviz/lib/python3.7/site-packages (from convertdate>=2.1.2->prophet) (2021.1)\n",
      "Requirement already satisfied: pymeeus<=1,>=0.3.13 in /Users/yuwang/opt/anaconda3/envs/pyviz/lib/python3.7/site-packages (from convertdate>=2.1.2->prophet) (0.5.11)\n",
      "Requirement already satisfied: six in /Users/yuwang/opt/anaconda3/envs/pyviz/lib/python3.7/site-packages (from holidays>=0.10.2->prophet) (1.15.0)\n",
      "Requirement already satisfied: korean-lunar-calendar in /Users/yuwang/opt/anaconda3/envs/pyviz/lib/python3.7/site-packages (from holidays>=0.10.2->prophet) (0.2.1)\n",
      "Requirement already satisfied: hijri-converter in /Users/yuwang/opt/anaconda3/envs/pyviz/lib/python3.7/site-packages (from holidays>=0.10.2->prophet) (2.1.2)\n",
      "Requirement already satisfied: ephem>=3.7.5.3 in /Users/yuwang/opt/anaconda3/envs/pyviz/lib/python3.7/site-packages (from LunarCalendar>=0.0.9->prophet) (4.0.0.2)\n",
      "Requirement already satisfied: pillow>=6.2.0 in /Users/yuwang/opt/anaconda3/envs/pyviz/lib/python3.7/site-packages (from matplotlib>=2.0.0->prophet) (8.2.0)\n",
      "Requirement already satisfied: kiwisolver>=1.0.1 in /Users/yuwang/opt/anaconda3/envs/pyviz/lib/python3.7/site-packages (from matplotlib>=2.0.0->prophet) (1.3.1)\n",
      "Requirement already satisfied: pyparsing!=2.0.4,!=2.1.2,!=2.1.6,>=2.0.3 in /Users/yuwang/opt/anaconda3/envs/pyviz/lib/python3.7/site-packages (from matplotlib>=2.0.0->prophet) (2.4.7)\n",
      "Requirement already satisfied: cycler>=0.10 in /Users/yuwang/opt/anaconda3/envs/pyviz/lib/python3.7/site-packages (from matplotlib>=2.0.0->prophet) (0.10.0)\n",
      "\u001b[33mWARNING: Error parsing requirements for absl-py: [Errno 2] No such file or directory: '/Users/yuwang/opt/anaconda3/envs/pyviz/lib/python3.7/site-packages/absl_py-0.12.0.dist-info/METADATA'\u001b[0m\n",
      "Note: you may need to restart the kernel to use updated packages.\n"
     ]
    }
   ],
   "source": [
    "pip install prophet"
   ]
  },
  {
   "cell_type": "code",
   "execution_count": 6,
   "metadata": {
    "colab": {
     "base_uri": "https://localhost:8080/"
    },
    "id": "wnOKvpq2yyMn",
    "outputId": "471a4ab2-b37c-4b23-d309-da704739577a"
   },
   "outputs": [
    {
     "name": "stdout",
     "output_type": "stream",
     "text": [
      "Collecting fbprophet\n",
      "  Downloading fbprophet-0.7.1.tar.gz (64 kB)\n",
      "\u001b[K     |████████████████████████████████| 64 kB 7.4 MB/s  eta 0:00:01\n",
      "\u001b[?25hRequirement already satisfied: Cython>=0.22 in /Users/yuwang/opt/anaconda3/envs/pyviz/lib/python3.7/site-packages (from fbprophet) (0.29.23)\n",
      "Collecting cmdstanpy==0.9.5\n",
      "  Downloading cmdstanpy-0.9.5-py3-none-any.whl (37 kB)\n",
      "Requirement already satisfied: pystan>=2.14 in /Users/yuwang/opt/anaconda3/envs/pyviz/lib/python3.7/site-packages (from fbprophet) (2.19.1.1)\n",
      "Requirement already satisfied: numpy>=1.15.4 in /Users/yuwang/opt/anaconda3/envs/pyviz/lib/python3.7/site-packages (from fbprophet) (1.20.2)\n",
      "Requirement already satisfied: pandas>=1.0.4 in /Users/yuwang/opt/anaconda3/envs/pyviz/lib/python3.7/site-packages (from fbprophet) (1.2.4)\n",
      "Requirement already satisfied: matplotlib>=2.0.0 in /Users/yuwang/opt/anaconda3/envs/pyviz/lib/python3.7/site-packages (from fbprophet) (3.3.4)\n",
      "Requirement already satisfied: LunarCalendar>=0.0.9 in /Users/yuwang/opt/anaconda3/envs/pyviz/lib/python3.7/site-packages (from fbprophet) (0.0.9)\n",
      "Requirement already satisfied: convertdate>=2.1.2 in /Users/yuwang/opt/anaconda3/envs/pyviz/lib/python3.7/site-packages (from fbprophet) (2.3.2)\n",
      "Requirement already satisfied: holidays>=0.10.2 in /Users/yuwang/opt/anaconda3/envs/pyviz/lib/python3.7/site-packages (from fbprophet) (0.11.1)\n",
      "Requirement already satisfied: setuptools-git>=1.2 in /Users/yuwang/opt/anaconda3/envs/pyviz/lib/python3.7/site-packages (from fbprophet) (1.2)\n",
      "Requirement already satisfied: python-dateutil>=2.8.0 in /Users/yuwang/opt/anaconda3/envs/pyviz/lib/python3.7/site-packages (from fbprophet) (2.8.1)\n",
      "Requirement already satisfied: tqdm>=4.36.1 in /Users/yuwang/opt/anaconda3/envs/pyviz/lib/python3.7/site-packages (from fbprophet) (4.59.0)\n",
      "Requirement already satisfied: pymeeus<=1,>=0.3.13 in /Users/yuwang/opt/anaconda3/envs/pyviz/lib/python3.7/site-packages (from convertdate>=2.1.2->fbprophet) (0.5.11)\n",
      "Requirement already satisfied: pytz>=2014.10 in /Users/yuwang/opt/anaconda3/envs/pyviz/lib/python3.7/site-packages (from convertdate>=2.1.2->fbprophet) (2021.1)\n",
      "Requirement already satisfied: korean-lunar-calendar in /Users/yuwang/opt/anaconda3/envs/pyviz/lib/python3.7/site-packages (from holidays>=0.10.2->fbprophet) (0.2.1)\n",
      "Requirement already satisfied: hijri-converter in /Users/yuwang/opt/anaconda3/envs/pyviz/lib/python3.7/site-packages (from holidays>=0.10.2->fbprophet) (2.1.2)\n",
      "Requirement already satisfied: six in /Users/yuwang/opt/anaconda3/envs/pyviz/lib/python3.7/site-packages (from holidays>=0.10.2->fbprophet) (1.15.0)\n",
      "Requirement already satisfied: ephem>=3.7.5.3 in /Users/yuwang/opt/anaconda3/envs/pyviz/lib/python3.7/site-packages (from LunarCalendar>=0.0.9->fbprophet) (4.0.0.2)\n",
      "Requirement already satisfied: cycler>=0.10 in /Users/yuwang/opt/anaconda3/envs/pyviz/lib/python3.7/site-packages (from matplotlib>=2.0.0->fbprophet) (0.10.0)\n",
      "Requirement already satisfied: pillow>=6.2.0 in /Users/yuwang/opt/anaconda3/envs/pyviz/lib/python3.7/site-packages (from matplotlib>=2.0.0->fbprophet) (8.2.0)\n",
      "Requirement already satisfied: pyparsing!=2.0.4,!=2.1.2,!=2.1.6,>=2.0.3 in /Users/yuwang/opt/anaconda3/envs/pyviz/lib/python3.7/site-packages (from matplotlib>=2.0.0->fbprophet) (2.4.7)\n",
      "Requirement already satisfied: kiwisolver>=1.0.1 in /Users/yuwang/opt/anaconda3/envs/pyviz/lib/python3.7/site-packages (from matplotlib>=2.0.0->fbprophet) (1.3.1)\n",
      "Building wheels for collected packages: fbprophet\n",
      "  Building wheel for fbprophet (setup.py) ... \u001b[?25ldone\n",
      "\u001b[?25h  Created wheel for fbprophet: filename=fbprophet-0.7.1-py3-none-any.whl size=721632 sha256=e722d8bc8032386e9383d3b28e21f4827bf3c0ec5c2e5460af052cde74376c7f\n",
      "  Stored in directory: /private/var/folders/z7/jc543xhx62d8l4l332qq_jnw0000gn/T/pip-ephem-wheel-cache-_nra7lrd/wheels/cd/a1/12/db63ff624de492fe6cccf676091a0860fdde2ffde4bc3280e2\n",
      "Successfully built fbprophet\n",
      "\u001b[33mWARNING: Error parsing requirements for absl-py: [Errno 2] No such file or directory: '/Users/yuwang/opt/anaconda3/envs/pyviz/lib/python3.7/site-packages/absl_py-0.12.0.dist-info/METADATA'\u001b[0m\n",
      "Installing collected packages: cmdstanpy, fbprophet\n",
      "  Attempting uninstall: cmdstanpy\n",
      "    Found existing installation: cmdstanpy 0.9.68\n",
      "    Uninstalling cmdstanpy-0.9.68:\n",
      "      Successfully uninstalled cmdstanpy-0.9.68\n",
      "\u001b[31mERROR: pip's dependency resolver does not currently take into account all the packages that are installed. This behaviour is the source of the following dependency conflicts.\n",
      "prophet 1.0.1 requires cmdstanpy==0.9.68, but you have cmdstanpy 0.9.5 which is incompatible.\u001b[0m\n",
      "Successfully installed cmdstanpy-0.9.5 fbprophet-0.7.1\n",
      "Note: you may need to restart the kernel to use updated packages.\n"
     ]
    }
   ],
   "source": [
    "pip install fbprophet --no-cache"
   ]
  },
  {
   "cell_type": "code",
   "execution_count": 7,
   "metadata": {
    "colab": {
     "base_uri": "https://localhost:8080/"
    },
    "id": "ptuGw5NOyz4p",
    "outputId": "cee43f62-ee3c-4b93-df91-c0716f13de67"
   },
   "outputs": [
    {
     "name": "stdout",
     "output_type": "stream",
     "text": [
      "Requirement already satisfied: pystan in /Users/yuwang/opt/anaconda3/envs/pyviz/lib/python3.7/site-packages (2.19.1.1)\n",
      "Requirement already satisfied: Cython!=0.25.1,>=0.22 in /Users/yuwang/opt/anaconda3/envs/pyviz/lib/python3.7/site-packages (from pystan) (0.29.23)\n",
      "Requirement already satisfied: numpy>=1.7 in /Users/yuwang/opt/anaconda3/envs/pyviz/lib/python3.7/site-packages (from pystan) (1.20.2)\n",
      "\u001b[33mWARNING: Error parsing requirements for absl-py: [Errno 2] No such file or directory: '/Users/yuwang/opt/anaconda3/envs/pyviz/lib/python3.7/site-packages/absl_py-0.12.0.dist-info/METADATA'\u001b[0m\n",
      "Note: you may need to restart the kernel to use updated packages.\n"
     ]
    }
   ],
   "source": [
    "pip install pystan --no-cache"
   ]
  },
  {
   "cell_type": "code",
   "execution_count": 8,
   "metadata": {
    "colab": {
     "base_uri": "https://localhost:8080/"
    },
    "id": "in56Jd6By3i1",
    "outputId": "fe9ca948-0804-417c-8251-74063e7d71f1"
   },
   "outputs": [
    {
     "name": "stdout",
     "output_type": "stream",
     "text": [
      "  % Total    % Received % Xferd  Average Speed   Time    Time     Time  Current\n",
      "                                 Dload  Upload   Total   Spent    Left  Speed\n",
      "100  3741    0  3741    0     0  13034      0 --:--:-- --:--:-- --:--:-- 12989\n",
      "tar: could not chdir to '/usr/lib/x86_64-linux-gnu/'\n",
      "\n",
      " 44  503k   44  221k    0     0   387k      0  0:00:01 --:--:--  0:00:01  387k\n",
      "curl: (23) Failure writing output to destination\n",
      "  % Total    % Received % Xferd  Average Speed   Time    Time     Time  Current\n",
      "                                 Dload  Upload   Total   Spent    Left  Speed\n",
      "100  3693    0  3693    0     0  14596      0 --:--:-- --:--:-- --:--:-- 14654\n",
      " 20  406k   20 84488    0     0   166k      0  0:00:02 --:--:--  0:00:02  166ktar: could not chdir to '/usr/local/lib/python3.7/dist-packages/'\n",
      "\n",
      " 83  406k   83  337k    0     0   604k      0 --:--:-- --:--:-- --:--:-- 4112k\n",
      "curl: (23) Failure writing output to destination\n"
     ]
    }
   ],
   "source": [
    "#Manual install talib on googlecolab\n",
    "url = 'https://anaconda.org/conda-forge/libta-lib/0.4.0/download/linux-64/libta-lib-0.4.0-h516909a_0.tar.bz2'\n",
    "!curl -L $url | tar xj -C /usr/lib/x86_64-linux-gnu/ lib --strip-components=1\n",
    "url = 'https://anaconda.org/conda-forge/ta-lib/0.4.19/download/linux-64/ta-lib-0.4.19-py37ha21ca33_2.tar.bz2'\n",
    "!curl -L $url | tar xj -C /usr/local/lib/python3.7/dist-packages/ lib/python3.7/site-packages/talib --strip-components=3"
   ]
  },
  {
   "cell_type": "markdown",
   "metadata": {
    "id": "Ouz8ieSsy51K"
   },
   "source": [
    "#Import Libraries and Dependencies"
   ]
  },
  {
   "cell_type": "code",
   "execution_count": 13,
   "metadata": {
    "colab": {
     "base_uri": "https://localhost:8080/"
    },
    "id": "c1-IiQkUy6ig",
    "outputId": "dee9bd47-af72-4796-cf23-1f5d0d98484c"
   },
   "outputs": [
    {
     "ename": "ImportError",
     "evalue": "cannot import name 'LSTM' from 'keras.layers' (unknown location)",
     "output_type": "error",
     "traceback": [
      "\u001b[0;31m---------------------------------------------------------------------------\u001b[0m",
      "\u001b[0;31mImportError\u001b[0m                               Traceback (most recent call last)",
      "\u001b[0;32m<ipython-input-13-6e81ca17ce92>\u001b[0m in \u001b[0;36m<module>\u001b[0;34m\u001b[0m\n\u001b[1;32m      8\u001b[0m \u001b[0;32mfrom\u001b[0m \u001b[0mfbprophet\u001b[0m \u001b[0;32mimport\u001b[0m \u001b[0mProphet\u001b[0m\u001b[0;34m\u001b[0m\u001b[0;34m\u001b[0m\u001b[0m\n\u001b[1;32m      9\u001b[0m \u001b[0;32mfrom\u001b[0m \u001b[0mdatetime\u001b[0m \u001b[0;32mimport\u001b[0m \u001b[0mdatetime\u001b[0m\u001b[0;34m\u001b[0m\u001b[0;34m\u001b[0m\u001b[0m\n\u001b[0;32m---> 10\u001b[0;31m \u001b[0;32mfrom\u001b[0m \u001b[0mkeras\u001b[0m\u001b[0;34m.\u001b[0m\u001b[0mlayers\u001b[0m \u001b[0;32mimport\u001b[0m \u001b[0mLSTM\u001b[0m\u001b[0;34m\u001b[0m\u001b[0;34m\u001b[0m\u001b[0m\n\u001b[0m\u001b[1;32m     11\u001b[0m \u001b[0;32mfrom\u001b[0m \u001b[0mkeras\u001b[0m\u001b[0;34m.\u001b[0m\u001b[0mlayers\u001b[0m \u001b[0;32mimport\u001b[0m \u001b[0mDense\u001b[0m\u001b[0;34m\u001b[0m\u001b[0;34m\u001b[0m\u001b[0m\n\u001b[1;32m     12\u001b[0m \u001b[0;32mfrom\u001b[0m \u001b[0mkeras\u001b[0m\u001b[0;34m.\u001b[0m\u001b[0mlayers\u001b[0m \u001b[0;32mimport\u001b[0m \u001b[0mDropout\u001b[0m\u001b[0;34m\u001b[0m\u001b[0;34m\u001b[0m\u001b[0m\n",
      "\u001b[0;31mImportError\u001b[0m: cannot import name 'LSTM' from 'keras.layers' (unknown location)"
     ]
    }
   ],
   "source": [
    "from pathlib import Path\n",
    "from datetime import date\n",
    "from arch import arch_model\n",
    "from statistics import mean\n",
    "from sklearn import metrics\n",
    "from tensorflow import keras\n",
    "from matplotlib import pyplot\n",
    "from fbprophet import Prophet\n",
    "from datetime import datetime\n",
    "from keras.layers import LSTM\n",
    "from keras.layers import Dense\n",
    "from keras.layers import Dropout\n",
    "from IPython.display import Image\n",
    "from keras.optimizers import Adam\n",
    "from keras.models import Sequential\n",
    "from keras.layers import Dense, LSTM\n",
    "from statsmodels.tsa.arima_model import ARIMA\n",
    "from tensorflow.keras.models import Sequential\n",
    "from sklearn.preprocessing import MinMaxScaler\n",
    "from sklearn.preprocessing import StandardScaler\n",
    "from sklearn.model_selection import ParameterGrid\n",
    "from sklearn.ensemble import RandomForestRegressor\n",
    "from sklearn.ensemble import RandomForestClassifier\n",
    "from sklearn.model_selection import train_test_split\n",
    "from tensorflow.keras.layers import LSTM, Dense, Dropout\n",
    "from sklearn.metrics import confusion_matrix, accuracy_score, classification_report\n",
    "from keras.callbacks import EarlyStopping, ReduceLROnPlateau, ModelCheckpoint, TensorBoard"
   ]
  },
  {
   "cell_type": "code",
   "execution_count": 14,
   "metadata": {
    "id": "MNaM1Ng7y8rO"
   },
   "outputs": [
    {
     "ename": "ModuleNotFoundError",
     "evalue": "No module named 'talib'",
     "output_type": "error",
     "traceback": [
      "\u001b[0;31m---------------------------------------------------------------------------\u001b[0m",
      "\u001b[0;31mModuleNotFoundError\u001b[0m                       Traceback (most recent call last)",
      "\u001b[0;32m<ipython-input-14-69ec275581d4>\u001b[0m in \u001b[0;36m<module>\u001b[0;34m\u001b[0m\n\u001b[1;32m      1\u001b[0m \u001b[0;32mimport\u001b[0m \u001b[0mtime\u001b[0m\u001b[0;34m\u001b[0m\u001b[0;34m\u001b[0m\u001b[0m\n\u001b[0;32m----> 2\u001b[0;31m \u001b[0;32mimport\u001b[0m \u001b[0mtalib\u001b[0m\u001b[0;34m\u001b[0m\u001b[0;34m\u001b[0m\u001b[0m\n\u001b[0m\u001b[1;32m      3\u001b[0m \u001b[0;32mimport\u001b[0m \u001b[0mdatetime\u001b[0m\u001b[0;34m\u001b[0m\u001b[0;34m\u001b[0m\u001b[0m\n\u001b[1;32m      4\u001b[0m \u001b[0;32mimport\u001b[0m \u001b[0mrequests\u001b[0m\u001b[0;34m\u001b[0m\u001b[0;34m\u001b[0m\u001b[0m\n\u001b[1;32m      5\u001b[0m \u001b[0;32mimport\u001b[0m \u001b[0mwarnings\u001b[0m\u001b[0;34m\u001b[0m\u001b[0;34m\u001b[0m\u001b[0m\n",
      "\u001b[0;31mModuleNotFoundError\u001b[0m: No module named 'talib'"
     ]
    }
   ],
   "source": [
    "import time\n",
    "import talib\n",
    "import datetime\n",
    "import requests\n",
    "import warnings\n",
    "import pydotplus\n",
    "import tensorflow \n",
    "import numpy as np\n",
    "import pandas as pd\n",
    "import arch as arch\n",
    "import datetime as dt\n",
    "import seaborn as sns\n",
    "import yfinance as yf\n",
    "import tensorflow as tf\n",
    "import matplotlib.pyplot as plt\n",
    "import pandas_datareader.data as web\n",
    "warnings.filterwarnings(\"ignore\")\n",
    "%matplotlib inline"
   ]
  },
  {
   "cell_type": "markdown",
   "metadata": {
    "id": "nSdd6ORbzCQa"
   },
   "source": [
    "#Set Ticker Module, Index, DataFrame"
   ]
  },
  {
   "cell_type": "code",
   "execution_count": null,
   "metadata": {
    "colab": {
     "base_uri": "https://localhost:8080/",
     "height": 447
    },
    "id": "NlV2dl5zzAlJ",
    "outputId": "09f9ea68-115f-41f3-af7d-9d38d0577847"
   },
   "outputs": [],
   "source": [
    "#Identifying the Ticker we want to analyize \n",
    "ticker = 'AAPL'\n",
    "\n",
    "# Assign start and end dates\n",
    "start_time = datetime.datetime(2019, 1, 1)\n",
    "end_time = datetime.datetime.now().date().isoformat()\n",
    "\n",
    "# Historical Time Series Data\n",
    "ticker_df = web.get_data_yahoo(ticker, start=start_time, end=end_time)\n",
    "ticker_df = ticker_df.reset_index()\n",
    "\n",
    "# Define DataFrame\n",
    "df = ticker_df\n",
    "\n",
    "# Reset \"Date\" as Index \n",
    "df.set_index(\"Date\",inplace=True)\n",
    "\n",
    "# Display DataFrame\n",
    "df"
   ]
  },
  {
   "cell_type": "markdown",
   "metadata": {
    "id": "hqyopZqA39xc"
   },
   "source": [
    "#Calculated and added indicators: RSI, MACD, CMF"
   ]
  },
  {
   "cell_type": "code",
   "execution_count": null,
   "metadata": {
    "id": "AUfCuZlw2cRE"
   },
   "outputs": [],
   "source": [
    "#Calculate RSI\n",
    "def computeRSI (data, time_window):\n",
    "    diff = data.diff(1).dropna() \n",
    "    up_chg = 0 * diff\n",
    "    down_chg = 0 * diff\n",
    "    # up change is equal to the positive difference, otherwise equal to zero\n",
    "    up_chg[diff > 0] = diff[ diff>0 ]\n",
    "    \n",
    "    # down change is equal to negative deifference, otherwise equal to zero\n",
    "    down_chg[diff < 0] = diff[ diff < 0 ]\n",
    "    \n",
    "    # check pandas documentation for ewm\n",
    "    # values are related to exponential decay\n",
    "    # we set com=time_window-1 so we get decay alpha=1/time_window\n",
    "    up_chg_avg   = up_chg.ewm(com=time_window-1 , min_periods=time_window).mean()\n",
    "    down_chg_avg = down_chg.ewm(com=time_window-1 , min_periods=time_window).mean()\n",
    "    \n",
    "    rs = abs(up_chg_avg/down_chg_avg)\n",
    "    rsi = 100 - 100/(1+rs)\n",
    "    return rsi"
   ]
  },
  {
   "cell_type": "code",
   "execution_count": null,
   "metadata": {
    "id": "4K5V9KSE2fIc"
   },
   "outputs": [],
   "source": [
    "#Calculate MACD\n",
    "def computeMACD (df, n_fast, n_slow, n_smooth):\n",
    "    data = df[\"Close\"]\n",
    "    \n",
    "    fastEMA = data.ewm(span=n_fast, min_periods=n_slow).mean()\n",
    "    slowEMA = data.ewm(span=n_slow, min_periods=n_slow).mean()\n",
    "    MACD = pd.Series(fastEMA-slowEMA, name = 'MACD')\n",
    "    MACDsig = pd.Series(MACD.ewm(span=n_smooth, min_periods=n_smooth).mean(), name='MACDsig')\n",
    "    MACDhist = pd.Series(MACD - MACDsig, name = 'MACDhist')\n",
    "    df = df.join(MACD)\n",
    "    df = df.join(MACDsig)\n",
    "    df = df.join(MACDhist)\n",
    "    \n",
    "    return df"
   ]
  },
  {
   "cell_type": "code",
   "execution_count": null,
   "metadata": {
    "colab": {
     "base_uri": "https://localhost:8080/",
     "height": 212
    },
    "id": "gcHvGfqJBkhj",
    "outputId": "a1a55eae-9958-4530-f090-7522536050ed"
   },
   "outputs": [],
   "source": [
    "#Here we set the time-window to 14 days\n",
    "df['RSI'] = computeRSI(df['Close'], 20)\n",
    "\n",
    "#Here we are computing the MACD (12-day for fast period, 26-Days for slow period, and 9 Days period to smooth data)\n",
    "df = computeMACD(df, 12, 26, 9)\n",
    "\n",
    "#Here we are calculating the percent Change between 1 a day period\n",
    "df['daily_returns']=df['Close'].pct_change()\n",
    "\n",
    "#Here we are calculating the rolling-20 day std on daily returns\n",
    "df['rolling_returns_std']= df['daily_returns'].rolling(window=20).std()\n",
    "\n",
    "#Here we are calculating the Chakin Money Flow Indicator with a 21-day Window period\n",
    "df['money_flow_volume'] = (df['Close'] - df['Low'] - (df['High'] - df['Close']))/(df['High'] - df['Low']) * df['Volume']\n",
    "df['wp_sum_of_money_flow_volume'] = df['money_flow_volume'].rolling(window=21).sum()\n",
    "df['wp_sum_of_volume'] = df['Volume'].rolling(window=21).sum()\n",
    "df['CMF'] = df['wp_sum_of_money_flow_volume'] / df['wp_sum_of_volume']\n",
    "\n",
    "df.head(2)"
   ]
  },
  {
   "cell_type": "markdown",
   "metadata": {
    "id": "6ye7XF8Q4Gr0"
   },
   "source": [
    "#Plot Adj Close, RSI, MACD, CMF"
   ]
  },
  {
   "cell_type": "code",
   "execution_count": null,
   "metadata": {
    "colab": {
     "base_uri": "https://localhost:8080/",
     "height": 1000
    },
    "id": "TYR3dfU-2t2V",
    "outputId": "333c474a-efce-482a-9a61-294a5b6654c5"
   },
   "outputs": [],
   "source": [
    "# plot price\n",
    "plt.figure(figsize=(15,5))\n",
    "plt.plot(df.index, df['Adj Close'])\n",
    "plt.title(ticker +' ADJ Closing Price')\n",
    "plt.show()\n",
    "\n",
    "\n",
    "# plot correspondingRSI values and significant levels\n",
    "plt.figure(figsize=(15,5))\n",
    "plt.title(ticker +' ADJ RSI')\n",
    "plt.plot(df.index, df['RSI'])\n",
    "\n",
    "#When RSI values are:\n",
    "#above 70, asset is considered overbought (overvalued)\n",
    "#below 30, asset is considered oversold (undervalued)\n",
    "\n",
    "plt.axhline(0, linestyle='--')\n",
    "plt.axhline(20, linestyle='--')\n",
    "plt.axhline(30, linestyle='--')\n",
    "\n",
    "plt.axhline(70, linestyle='--')\n",
    "plt.axhline(80, linestyle='--')\n",
    "plt.axhline(100, linestyle='--')\n",
    "\n",
    "# plot correspondingRSI values and significant levels\n",
    "plt.figure(figsize=(15,5))\n",
    "plt.title('MACD chart ' + str(ticker))\n",
    "plt.plot(df.index, df['MACD'].fillna(0))\n",
    "plt.plot(df.index, df['MACDsig'].fillna(0))\n",
    "plt.plot(df.index, df['MACDhist'].fillna(0))\n",
    "plt.bar(df.index, df['MACDhist'].fillna(0), width=0.5, snap=False)\n",
    "plt.show()\n",
    "\n",
    "plt.figure(figsize=(15,5))\n",
    "plt.plot(df.index, df['CMF'])\n",
    "plt.title(ticker +'CMF')\n",
    "plt.axhline(0, linestyle='--')\n",
    "plt.show()\n"
   ]
  },
  {
   "cell_type": "markdown",
   "metadata": {
    "id": "avpb-JKJ3nnT"
   },
   "source": [
    "#Save dataframe to csv"
   ]
  },
  {
   "cell_type": "code",
   "execution_count": null,
   "metadata": {
    "id": "HGnQ0zFO1kDR"
   },
   "outputs": [],
   "source": [
    "#Save dataframe to csv\n",
    "df.to_csv('ticker_data.csv')"
   ]
  },
  {
   "cell_type": "code",
   "execution_count": null,
   "metadata": {
    "id": "PpyWbx6C3r0g"
   },
   "outputs": [],
   "source": [
    "#Read csv file\n",
    "df2 = pd.read_csv(\n",
    "    Path(\"ticker_data.csv\"),\n",
    "    index_col=\"Date\",\n",
    "    infer_datetime_format=True,\n",
    "    parse_dates=True,\n",
    "    \n",
    ")"
   ]
  },
  {
   "cell_type": "markdown",
   "metadata": {
    "id": "Rysqe0N24WHb"
   },
   "source": [
    "#Data Cleanup"
   ]
  },
  {
   "cell_type": "code",
   "execution_count": null,
   "metadata": {
    "colab": {
     "base_uri": "https://localhost:8080/",
     "height": 447
    },
    "id": "ZPhp0EFE4jMw",
    "outputId": "2938d20a-3848-4c8a-be2b-4dfafc9082e0"
   },
   "outputs": [],
   "source": [
    "df2 = df.drop(columns=[\"High\",\"Low\",\"Open\",\"Volume\",\"Adj Close\",\"MACDsig\",\"MACD\",\"rolling_returns_std\",\"money_flow_volume\",\"wp_sum_of_money_flow_volume\",\"wp_sum_of_volume\"])\n",
    "df2 = df2.dropna().copy()\n",
    "df2\n"
   ]
  },
  {
   "cell_type": "markdown",
   "metadata": {
    "id": "a_DP-WL16RYd"
   },
   "source": [
    "#Model 1 Forecasting the Stock Price using LSTM\n"
   ]
  },
  {
   "cell_type": "code",
   "execution_count": null,
   "metadata": {
    "id": "9DgHKhbTEWOM"
   },
   "outputs": [],
   "source": [
    "#Set index Date as str\n",
    "df2.index = df2.index.astype(str)"
   ]
  },
  {
   "cell_type": "code",
   "execution_count": null,
   "metadata": {
    "colab": {
     "base_uri": "https://localhost:8080/"
    },
    "id": "FPqXhwdM6SP_",
    "outputId": "fda36689-0eb1-492a-908c-e901b9ece6f7"
   },
   "outputs": [],
   "source": [
    "# Importing Training Set\n",
    "dataset_train = df2\n",
    "\n",
    "# Select features (columns) to be involved intr\n",
    "# Select features (columns) to be involved intro training and predictions\n",
    "cols = list(dataset_train)[0:5]\n",
    "\n",
    "# Extract dates (will be used in visualization)\n",
    "datelist_train = list(dataset_train.index)\n",
    "datelist_train = [dt.datetime.strptime(date, '%Y-%m-%d').date() for date in datelist_train]\n",
    "\n",
    "print('Training set shape == {}'.format(dataset_train.shape))\n",
    "print('All timestamps == {}'.format(len(datelist_train)))\n",
    "print('Featured selected: {}'.format(cols))"
   ]
  },
  {
   "cell_type": "code",
   "execution_count": null,
   "metadata": {
    "colab": {
     "base_uri": "https://localhost:8080/"
    },
    "id": "PdSzGqWB6-G4",
    "outputId": "bb7ae840-5ef8-4ec7-f6b4-fdc8c8b39ae4"
   },
   "outputs": [],
   "source": [
    "#Create array for LSTM model to run\n",
    "df3 = df2.select_dtypes(include=float).to_numpy()\n",
    "df3"
   ]
  },
  {
   "cell_type": "code",
   "execution_count": null,
   "metadata": {
    "colab": {
     "base_uri": "https://localhost:8080/"
    },
    "id": "TwR5uCci7lq7",
    "outputId": "57449581-8fb1-46f8-c67c-bd841de532c2"
   },
   "outputs": [],
   "source": [
    "# Feature Scaling\n",
    "from sklearn.preprocessing import StandardScaler\n",
    "\n",
    "sc = StandardScaler()\n",
    "training_set_scaled = sc.fit_transform(df3)\n",
    "\n",
    "sc_predict = StandardScaler()\n",
    "sc_predict.fit_transform(df3[:, 0:1])"
   ]
  },
  {
   "cell_type": "code",
   "execution_count": null,
   "metadata": {
    "colab": {
     "base_uri": "https://localhost:8080/"
    },
    "id": "e5975KbT7n9l",
    "outputId": "169a9970-b05c-419e-b7ec-9d823223e8c6"
   },
   "outputs": [],
   "source": [
    "# Creating a data structure with 90 timestamps and 1 output\n",
    "X_train = []\n",
    "y_train = []\n",
    "\n",
    "n_future = 7     # Number of days we want top predict into the future\n",
    "n_past = 100     # Number of past days we want to use to predict the future\n",
    "\n",
    "for i in range(n_past, len(training_set_scaled) - n_future +1):\n",
    "    X_train.append(training_set_scaled[i - n_past:i, 0:dataset_train.shape[1] - 1])\n",
    "    y_train.append(training_set_scaled[i + n_future - 1:i + n_future, 0])\n",
    "\n",
    "X_train, y_train = np.array(X_train), np.array(y_train)\n",
    "\n",
    "print('X_train shape == {}.'.format(X_train.shape))\n",
    "print('y_train shape == {}.'.format(y_train.shape))"
   ]
  },
  {
   "cell_type": "code",
   "execution_count": null,
   "metadata": {
    "id": "rHhzvzFD7rlQ"
   },
   "outputs": [],
   "source": [
    "# Initializing the Neural Network based on LSTM\n",
    "model = Sequential()\n",
    "\n",
    "# Adding 1st LSTM layer\n",
    "model.add(LSTM(units=64, return_sequences=True, input_shape=(n_past, dataset_train.shape[1]-1)))\n",
    "\n",
    "# Adding 2nd LSTM layer\n",
    "model.add(LSTM(units=10, return_sequences=False))\n",
    "\n",
    "# Adding Dropout\n",
    "model.add(Dropout(0.2))\n",
    "\n",
    "# Output layer\n",
    "model.add(Dense(units=1, activation='linear'))\n",
    "\n",
    "# Compiling the Neural Network\n",
    "model.compile(optimizer = Adam(learning_rate=3e-4), loss='mean_squared_error')"
   ]
  },
  {
   "cell_type": "code",
   "execution_count": null,
   "metadata": {
    "colab": {
     "base_uri": "https://localhost:8080/"
    },
    "id": "q91bnbym7uWd",
    "outputId": "c41844dd-1a42-49ff-821d-50faf859118b"
   },
   "outputs": [],
   "source": [
    "%%time\n",
    "es = EarlyStopping(monitor='val_loss', min_delta=1e-10, patience=10, verbose=1)\n",
    "rlr = ReduceLROnPlateau(monitor='val_loss', factor=0.5, patience=10, verbose=1)\n",
    "mcp = ModelCheckpoint(filepath='weights.h5', monitor='val_loss', verbose=1, save_best_only=True, save_weights_only=True)\n",
    "\n",
    "tb = TensorBoard('logs')\n",
    "\n",
    "history = model.fit(X_train, y_train, shuffle=True, epochs=50, callbacks=[es, rlr, mcp, tb], validation_split=0.2, verbose=1, batch_size=256)"
   ]
  },
  {
   "cell_type": "code",
   "execution_count": null,
   "metadata": {
    "id": "IFQz955U7xEw"
   },
   "outputs": [],
   "source": [
    "# Generate list of sequence of days for predictions\n",
    "datelist_future = pd.date_range(datelist_train[-1], periods=n_future, freq='1d').tolist()\n",
    "\n",
    "'''\n",
    "Remeber, we have datelist_train from begining.\n",
    "'''\n",
    "\n",
    "# Convert Pandas Timestamp to Datetime object (for transformation) --> FUTURE\n",
    "datelist_future_ = []\n",
    "for this_timestamp in datelist_future:\n",
    "    datelist_future_.append(this_timestamp.date())"
   ]
  },
  {
   "cell_type": "code",
   "execution_count": null,
   "metadata": {
    "id": "xYeEZZvO7zFl"
   },
   "outputs": [],
   "source": [
    "# Perform predictions\n",
    "predictions_future = model.predict(X_train[-n_future:])\n",
    "\n",
    "predictions_train = model.predict(X_train[n_past:])"
   ]
  },
  {
   "cell_type": "code",
   "execution_count": null,
   "metadata": {
    "colab": {
     "base_uri": "https://localhost:8080/",
     "height": 265
    },
    "id": "_3FhWhJ68L6o",
    "outputId": "fbe86426-5c45-4673-96bc-79a020827e8b"
   },
   "outputs": [],
   "source": [
    "from datetime import datetime\n",
    "# Inverse the predictions to original measurements\n",
    "\n",
    "# ---> Special function: convert <datetime.date> to <Timestamp>\n",
    "def datetime_to_timestamp(x):\n",
    "    '''\n",
    "        x : a given datetime value (datetime.date)\n",
    "    '''\n",
    "    return datetime.strptime(x.strftime('%Y%m%d'), '%Y%m%d')\n",
    "\n",
    "\n",
    "y_pred_future = sc_predict.inverse_transform(predictions_future)\n",
    "y_pred_train = sc_predict.inverse_transform(predictions_train)\n",
    "\n",
    "PREDICTIONS_FUTURE = pd.DataFrame(y_pred_future, columns=['Close']).set_index(pd.Series(datelist_future))\n",
    "PREDICTION_TRAIN = pd.DataFrame(y_pred_train, columns=['Close']).set_index(pd.Series(datelist_train[2 * n_past + n_future -1:]))\n",
    "\n",
    "# Convert <datetime.date> to <Timestamp> for PREDCITION_TRAIN\n",
    "PREDICTION_TRAIN.index = PREDICTION_TRAIN.index.to_series().apply(datetime_to_timestamp)\n",
    "\n",
    "PREDICTIONS_FUTURE.head(10)"
   ]
  },
  {
   "cell_type": "code",
   "execution_count": null,
   "metadata": {
    "colab": {
     "base_uri": "https://localhost:8080/",
     "height": 498
    },
    "id": "G0BwAA4n8Smq",
    "outputId": "20d8fd2c-0a46-4d88-8661-362d8a49bc6c"
   },
   "outputs": [],
   "source": [
    "# Set plot size \n",
    "from pylab import rcParams\n",
    "rcParams['figure.figsize'] = 20, 10\n",
    "\n",
    "# Plot parameters\n",
    "START_DATE_FOR_PLOTTING = '2021-01-01'\n",
    "\n",
    "plt.plot(PREDICTIONS_FUTURE.index, PREDICTIONS_FUTURE['Close'], color='orange', label='Predicted Stock Price')\n",
    "plt.plot(PREDICTION_TRAIN.loc[START_DATE_FOR_PLOTTING:].index, PREDICTION_TRAIN.loc[START_DATE_FOR_PLOTTING:]['Close'], color='Blue', label='Training predictions')\n"
   ]
  },
  {
   "cell_type": "markdown",
   "metadata": {
    "id": "LZ1GqRFBGboX"
   },
   "source": [
    "#Model 2 Forecasting the Stock Price using ARIMA"
   ]
  },
  {
   "cell_type": "code",
   "execution_count": null,
   "metadata": {
    "colab": {
     "base_uri": "https://localhost:8080/",
     "height": 492
    },
    "id": "ScDJJHxoGhUe",
    "outputId": "9675d5aa-7efd-4c06-d036-6d698cec03e7"
   },
   "outputs": [],
   "source": [
    "# Plot ACF\n",
    "from statsmodels.graphics.tsaplots import plot_acf, plot_pacf\n",
    "plot_acf(df[\"Close\"], lags=20);"
   ]
  },
  {
   "cell_type": "code",
   "execution_count": null,
   "metadata": {
    "colab": {
     "base_uri": "https://localhost:8080/",
     "height": 495
    },
    "id": "x8KmgTu0G1Rx",
    "outputId": "ef8e283b-1003-4d71-f3c0-22076bd1205b"
   },
   "outputs": [],
   "source": [
    "# Plot PACF\n",
    "plot_pacf(df[\"Close\"], zero=False, lags=20);\n"
   ]
  },
  {
   "cell_type": "code",
   "execution_count": null,
   "metadata": {
    "colab": {
     "base_uri": "https://localhost:8080/",
     "height": 482
    },
    "id": "N2dScdQRG3hH",
    "outputId": "c60e5f3e-ae86-41fd-eae3-d7e5fe905022"
   },
   "outputs": [],
   "source": [
    "#Plot historical close price trend\n",
    "df['Close'].plot()"
   ]
  },
  {
   "cell_type": "code",
   "execution_count": null,
   "metadata": {
    "colab": {
     "base_uri": "https://localhost:8080/",
     "height": 481
    },
    "id": "3c2d17YmG59h",
    "outputId": "f1b6a2cc-ec1d-433c-87da-090b2d9900d7"
   },
   "outputs": [],
   "source": [
    "#Check the \"Close\" price difference\n",
    "df['diff_Close'] = df['Close'].diff(1)\n",
    "df['diff_Close'].plot()"
   ]
  },
  {
   "cell_type": "code",
   "execution_count": null,
   "metadata": {
    "colab": {
     "base_uri": "https://localhost:8080/",
     "height": 481
    },
    "id": "KtY4fSoVG8EN",
    "outputId": "20084b96-5e80-4836-a6cd-b6f368d84cc6"
   },
   "outputs": [],
   "source": [
    "#Check the \"Close\" price difference again\n",
    "df['diff_Close'] = df['Close'].diff(2)\n",
    "df['diff_Close'].plot()"
   ]
  },
  {
   "cell_type": "code",
   "execution_count": null,
   "metadata": {
    "id": "nP_rWfhiG_vW"
   },
   "outputs": [],
   "source": [
    "# Estimate and ARIMA Model:\n",
    "model = ARIMA(df[\"Close\"], order=(1, 1, 1))\n",
    "\n",
    "# Fit the model\n",
    "results = model.fit()"
   ]
  },
  {
   "cell_type": "code",
   "execution_count": null,
   "metadata": {
    "colab": {
     "base_uri": "https://localhost:8080/",
     "height": 324
    },
    "id": "f1UKWtg3HBoG",
    "outputId": "5b5b9d09-8129-4f18-c471-4c3fd26f55ab"
   },
   "outputs": [],
   "source": [
    "# Output model summary results:\n",
    "results.summary()"
   ]
  },
  {
   "cell_type": "code",
   "execution_count": null,
   "metadata": {
    "colab": {
     "base_uri": "https://localhost:8080/"
    },
    "id": "KAhqmqhWHEFq",
    "outputId": "bed6e7ee-bae6-490e-91ab-165d20d4c8f3"
   },
   "outputs": [],
   "source": [
    "#Create dataframe of predict close price\n",
    "predict_close = pd.DataFrame(results.forecast(steps=7)[0])\n",
    "predict_close = predict_close.reset_index()\n",
    "predict_close = predict_close[0]\n",
    "predict_close"
   ]
  },
  {
   "cell_type": "code",
   "execution_count": null,
   "metadata": {
    "colab": {
     "base_uri": "https://localhost:8080/"
    },
    "id": "fkPk7nxHHG1v",
    "outputId": "0c4a6649-3d86-46ed-9521-68466f68c65d"
   },
   "outputs": [],
   "source": [
    "from datetime import datetime, date, time, timedelta\n",
    "import datetime\n",
    "\n",
    "# Define start date as tomorrow\n",
    "today = datetime.date.today()\n",
    "tomorrow = today + datetime.timedelta(days = 1) \n",
    "print('Today : ',today)\n",
    "print('Tomorrow : ',tomorrow)"
   ]
  },
  {
   "cell_type": "code",
   "execution_count": null,
   "metadata": {
    "colab": {
     "base_uri": "https://localhost:8080/"
    },
    "id": "IIAuvZnCHLPE",
    "outputId": "8be397b5-396f-4120-9691-05e3136ffb93"
   },
   "outputs": [],
   "source": [
    "#Create dataframe of next 7 dates \n",
    "dates = pd.date_range(start=tomorrow, periods=7).to_frame()\n",
    "dates = dates.reset_index()\n",
    "dates = dates[0]  \n",
    "dates"
   ]
  },
  {
   "cell_type": "code",
   "execution_count": null,
   "metadata": {
    "colab": {
     "base_uri": "https://localhost:8080/",
     "height": 265
    },
    "id": "gmy616mhIuiA",
    "outputId": "1070b9f9-6f22-4d49-c14f-24e9fb3883a6"
   },
   "outputs": [],
   "source": [
    "# Concatenate the two DataFrames by columns and perform an inner join\n",
    "predict_7days = pd.concat([dates, predict_close], axis=\"columns\", join=\"inner\")\n",
    "predict_7days"
   ]
  },
  {
   "cell_type": "code",
   "execution_count": null,
   "metadata": {
    "colab": {
     "base_uri": "https://localhost:8080/",
     "height": 265
    },
    "id": "Mm8kk_AhIwVF",
    "outputId": "0e267f60-2014-4d23-ffa9-3653441e6846"
   },
   "outputs": [],
   "source": [
    "# Set the `columns` attribute to a new list of column names\n",
    "columns = [\"Date\", \"Predict Price\"]\n",
    "predict_7days.columns = columns\n",
    "predict_7days"
   ]
  },
  {
   "cell_type": "code",
   "execution_count": null,
   "metadata": {
    "colab": {
     "base_uri": "https://localhost:8080/",
     "height": 295
    },
    "id": "KocmMiTiIzXP",
    "outputId": "219d2d4b-3bf7-420c-e09e-c38aa015acf2"
   },
   "outputs": [],
   "source": [
    "#Set Date as index, display dataframe of 7 Day Price Forecast\n",
    "predict_7days.set_index(\"Date\",inplace=True)\n",
    "predict_7days"
   ]
  },
  {
   "cell_type": "code",
   "execution_count": null,
   "metadata": {
    "colab": {
     "base_uri": "https://localhost:8080/",
     "height": 534
    },
    "id": "7AjLT6pDI1VK",
    "outputId": "abac382d-7692-4043-908c-2e636ff2031b"
   },
   "outputs": [],
   "source": [
    "# Plot the 7 Day Price Forecast\n",
    "\n",
    "#pd.DataFrame(results.forecast(steps=7)[0]).plot(title=\"7 Day Futures Price Forecast\")\n",
    "predict_7days.plot(title=\"7 Day Futures Price Forecast\")"
   ]
  },
  {
   "cell_type": "markdown",
   "metadata": {
    "id": "8-wnm-0gJx-h"
   },
   "source": [
    "#Model 3 Forecasting the Stock Price using Prophet"
   ]
  },
  {
   "cell_type": "code",
   "execution_count": null,
   "metadata": {
    "colab": {
     "base_uri": "https://localhost:8080/"
    },
    "id": "Du7NxssIJsT8",
    "outputId": "c406ff98-45fb-4a6d-ab5a-52417c2237c0"
   },
   "outputs": [],
   "source": [
    "#Define new dataframe\n",
    "df_prophet = df['Close']\n",
    "df_prophet.head()"
   ]
  },
  {
   "cell_type": "code",
   "execution_count": null,
   "metadata": {
    "colab": {
     "base_uri": "https://localhost:8080/",
     "height": 203
    },
    "id": "tsx0aitHKsmh",
    "outputId": "51398770-48c2-49b9-f2ca-73c99e5b5b91"
   },
   "outputs": [],
   "source": [
    "#Reset Index\n",
    "df_prophet = df_prophet.reset_index()\n",
    "df_prophet.head()"
   ]
  },
  {
   "cell_type": "code",
   "execution_count": null,
   "metadata": {
    "id": "TOIfH7I4Kuy_"
   },
   "outputs": [],
   "source": [
    "# Use the `rename` method to change the name of the columns\n",
    "df_prophet = df_prophet.rename(columns={\n",
    "    \"Date\": \"ds\",\n",
    "    \"Close\": \"y\"\n",
    "})"
   ]
  },
  {
   "cell_type": "code",
   "execution_count": null,
   "metadata": {
    "colab": {
     "base_uri": "https://localhost:8080/",
     "height": 203
    },
    "id": "0q6eE_YWKwyV",
    "outputId": "61900efa-9d6b-49ff-fb70-6abf3abb3aa8"
   },
   "outputs": [],
   "source": [
    "#Display new dataframe\n",
    "df_prophet.head()"
   ]
  },
  {
   "cell_type": "code",
   "execution_count": null,
   "metadata": {
    "colab": {
     "base_uri": "https://localhost:8080/"
    },
    "id": "dB7OjK3LKya6",
    "outputId": "0a860834-a949-4783-f983-2fc89cec654e"
   },
   "outputs": [],
   "source": [
    "# Fit Prophet model\n",
    "m = Prophet()\n",
    "m.fit(df_prophet)"
   ]
  },
  {
   "cell_type": "code",
   "execution_count": null,
   "metadata": {
    "colab": {
     "base_uri": "https://localhost:8080/",
     "height": 480
    },
    "id": "t_jqDA76K00i",
    "outputId": "5ccfa020-2343-4b69-8365-38a930e81ae1"
   },
   "outputs": [],
   "source": [
    "# Forecast future 14 days\n",
    "future = m.make_future_dataframe(periods=14)\n",
    "future.tail(14)"
   ]
  },
  {
   "cell_type": "code",
   "execution_count": null,
   "metadata": {
    "colab": {
     "base_uri": "https://localhost:8080/",
     "height": 480
    },
    "id": "5IRkfhl8K2wH",
    "outputId": "d4ccf20d-8957-42b0-fc04-9e5fac848360"
   },
   "outputs": [],
   "source": [
    "# Dispaly forecast\n",
    "forecast = m.predict(future)\n",
    "forecast[['ds', 'yhat', 'yhat_lower', 'yhat_upper']].tail(14)"
   ]
  },
  {
   "cell_type": "code",
   "execution_count": null,
   "metadata": {
    "colab": {
     "base_uri": "https://localhost:8080/",
     "height": 1000
    },
    "id": "IdfMMQTWK4-9",
    "outputId": "1fd5c786-7c79-462f-f84d-8c3925d24543"
   },
   "outputs": [],
   "source": [
    "# Plot forecast\n",
    "fig1 = m.plot(forecast)\n",
    "fig2 = m.plot_components(forecast)"
   ]
  },
  {
   "cell_type": "markdown",
   "metadata": {
    "id": "F9MpSASfK8dx"
   },
   "source": [
    "Compare Prediciton Results "
   ]
  },
  {
   "cell_type": "code",
   "execution_count": null,
   "metadata": {
    "colab": {
     "base_uri": "https://localhost:8080/",
     "height": 234
    },
    "id": "p_tlYyRjLlKW",
    "outputId": "812b89d3-00ac-4632-bc77-2ceaffe6d2ee"
   },
   "outputs": [],
   "source": [
    "PREDICTIONS_FUTURE = PREDICTIONS_FUTURE.iloc[1:]\n",
    "PREDICTIONS_FUTURE"
   ]
  },
  {
   "cell_type": "code",
   "execution_count": null,
   "metadata": {
    "colab": {
     "base_uri": "https://localhost:8080/",
     "height": 265
    },
    "id": "aiEXG5gwLCcm",
    "outputId": "059491b1-257c-4a78-96b9-287d1b89f65e"
   },
   "outputs": [],
   "source": [
    "#create new dataframe of prothet prediction result\n",
    "prothet_df = forecast[['ds', 'yhat']].tail(14)\n",
    "prothet_df.set_index(\"ds\",inplace=True)\n",
    "prothet_df = prothet_df.iloc[:6]\n",
    "prothet_df"
   ]
  },
  {
   "cell_type": "code",
   "execution_count": null,
   "metadata": {
    "colab": {
     "base_uri": "https://localhost:8080/",
     "height": 265
    },
    "id": "ptO6hzabLRs5",
    "outputId": "a22c86b8-3d0f-4272-b7f3-71fda4cbc5e8"
   },
   "outputs": [],
   "source": [
    "#create a new dataframe of arima prediction result\n",
    "#arima_df = predict_7days['Predict Price']\n",
    "arima_df = predict_7days\n",
    "arima_df = arima_df.iloc[:6]\n",
    "arima_df"
   ]
  },
  {
   "cell_type": "code",
   "execution_count": null,
   "metadata": {
    "colab": {
     "base_uri": "https://localhost:8080/",
     "height": 203
    },
    "id": "tFER3RgZLURU",
    "outputId": "1825cb86-c96b-4128-f8be-ed79e5657832"
   },
   "outputs": [],
   "source": [
    "#concat two dataframes \n",
    "compare_df = pd.concat(\n",
    "    [PREDICTIONS_FUTURE,arima_df, prothet_df], axis=\"columns\", join=\"inner\"\n",
    ")\n",
    "compare_df"
   ]
  },
  {
   "cell_type": "code",
   "execution_count": null,
   "metadata": {
    "colab": {
     "base_uri": "https://localhost:8080/",
     "height": 203
    },
    "id": "No3qZeIXLWLu",
    "outputId": "6b5cc841-1904-45bc-c6d6-4778e8e37360"
   },
   "outputs": [],
   "source": [
    "# Use the `rename` method to change the name of the columns\n",
    "compare_df = compare_df.rename(columns={\n",
    "    \"Close\":\"LSTM\",\n",
    "    \"Predict Price\": \"ARIMA\",\n",
    "    \"yhat\": \"Prophet\"\n",
    "})\n",
    "compare_df"
   ]
  },
  {
   "cell_type": "code",
   "execution_count": null,
   "metadata": {
    "colab": {
     "base_uri": "https://localhost:8080/"
    },
    "id": "0DsPwusVLYHB",
    "outputId": "cc5d95a2-48b1-47f3-c42e-50c10503a4b7"
   },
   "outputs": [],
   "source": [
    "#Display latest stock Close price\n",
    "df['Close'].tail()"
   ]
  },
  {
   "cell_type": "markdown",
   "metadata": {
    "id": "op8mw2EaM6VH"
   },
   "source": [
    "#Model 4 Predict Stock Prices Change using Random Forest"
   ]
  },
  {
   "cell_type": "code",
   "execution_count": null,
   "metadata": {
    "colab": {
     "base_uri": "https://localhost:8080/",
     "height": 490
    },
    "id": "Ib1TUxyLM5aT",
    "outputId": "e3ff96ab-5186-4ed9-9f66-825a1517a956"
   },
   "outputs": [],
   "source": [
    "#plot 1-day percentage change of adjusted close price in a histogram\n",
    "df['Adj Close'].pct_change().plot.hist(bins=50)\n",
    "plt.xlabel(\"Adjusted close 1 day percent change\")\n",
    "plt.show()"
   ]
  },
  {
   "cell_type": "code",
   "execution_count": null,
   "metadata": {
    "id": "UGYVy4HCOlWJ"
   },
   "outputs": [],
   "source": [
    "#Create an empty list to hold the feature names.\n",
    "feature_names = []\n",
    "\n",
    "#In a for loop, use the ta-lib library SMA and RSI methods to calculate the SMA-14, SMA-30, SMA-50, & SMA-200 and also RSI-14, RSI-30, RSI-50, & RSI-200.\n",
    "for n in [14, 30, 50, 200]:\n",
    "    df['ma' + str(n)] = talib.SMA(df['Adj Close'].values, timeperiod=n)\n",
    "    df['rsi' + str(n)] = talib.RSI(df['Adj Close'].values, timeperiod=n)\n",
    "\n",
    "#Append the moving average and rsi variable names to the feature_names list.\n",
    "    feature_names = feature_names + ['ma' + str(n), 'rsi' + str(n)]"
   ]
  },
  {
   "cell_type": "code",
   "execution_count": null,
   "metadata": {
    "id": "PozqdgWjOnDK"
   },
   "outputs": [],
   "source": [
    "#use the dataframe pct_change method again to calculate the daily volume change percentage and add the volume feature name to the list.\n",
    "df['Volume_1d_change'] = df['Volume'].pct_change()\n",
    "\n",
    "volume_features = ['Volume_1d_change']\n",
    "feature_names.extend(volume_features)"
   ]
  },
  {
   "cell_type": "code",
   "execution_count": null,
   "metadata": {
    "id": "ExKxlE0ZOpR-"
   },
   "outputs": [],
   "source": [
    "# shift price values forward to the next 7 indexes\n",
    "df['7d_future_close'] = df['Adj Close'].shift(-7)\n",
    "# 7-days future close price change percentage.\n",
    "df['7d_close_future_pct'] = df['7d_future_close'].pct_change(7)"
   ]
  },
  {
   "cell_type": "code",
   "execution_count": null,
   "metadata": {
    "id": "o2Ya0dCPOq19"
   },
   "outputs": [],
   "source": [
    "#Use the dropna method to remove all the null values from the dataframe\n",
    "df.dropna(inplace=True)\n",
    "\n",
    "# Assign feature_names list to variable X\n",
    "X = df[feature_names]\n",
    "# Assign 7-day future close price percentage column to variable y\n",
    "y = df['7d_close_future_pct']\n",
    "\n",
    "#Set training size to 85% of the entire dataset.\n",
    "train_size = int(0.85 * y.shape[0])\n",
    "\n",
    "#Assign the first 85% of the feature values and target values to X_train and y_train, respectively.\n",
    "X_train = X[:train_size]\n",
    "y_train = y[:train_size]\n",
    "\n",
    "#Assign the last 15% of the feature values and target values to X_test and y_test, respectively.\n",
    "X_test = X[train_size:]\n",
    "y_test = y[train_size:]"
   ]
  },
  {
   "cell_type": "code",
   "execution_count": null,
   "metadata": {
    "colab": {
     "base_uri": "https://localhost:8080/"
    },
    "id": "4Gp4wvQiOvSf",
    "outputId": "f128e5b0-0eb5-4429-d033-2da246dc416b"
   },
   "outputs": [],
   "source": [
    "#Set a dictionary of parameters that we intend to tweak our random forest model. \n",
    "grid = {'n_estimators': [200], 'max_depth': [3], 'max_features': [4, 8], 'random_state': [42]}\n",
    "\n",
    "#Create an empty list to hold the values test score for different parameter sets.\n",
    "test_scores = []\n",
    "\n",
    "#Create a scikit-learn RandomForestRegressor object.\n",
    "rf_model = RandomForestRegressor()\n",
    "\n",
    "\n",
    "#Use a for-loop to iterate through the parameter value in the grid dictionary \n",
    "for g in ParameterGrid(grid):\n",
    "#apply the parameter set to the random forest model using the set_params method\n",
    "    rf_model.set_params(**g) \n",
    "#fit the model with the training set, X_train & y_train.\n",
    "    rf_model.fit(X_train, y_train)\n",
    "#Fetch the test set to the score method and the resulting score is appended to the test_scores list.\n",
    "    test_scores.append(rf_model.score(X_test, y_test))\n",
    "\n",
    "#Use the NumPy argmax method to get the index of the highest test score from the list\n",
    "best_index = np.argmax(test_scores)\n",
    "#use the index to display the best test score and parameter set.\n",
    "print(test_scores[best_index], ParameterGrid(grid)[best_index])"
   ]
  },
  {
   "cell_type": "code",
   "execution_count": null,
   "metadata": {
    "colab": {
     "base_uri": "https://localhost:8080/",
     "height": 459
    },
    "id": "5iFwVgQSQAQo",
    "outputId": "829cdb51-4dd9-4698-dbe2-8e7b7c3cb309"
   },
   "outputs": [],
   "source": [
    "rf_model = RandomForestRegressor(n_estimators=200, max_depth=3, max_features=4, random_state=42)\n",
    "rf_model.fit(X_train, y_train)\n",
    "\n",
    "y_pred = rf_model.predict(X_test)\n",
    "\n",
    "y_pred_series = pd.Series(y_pred, index=y_test.index)\n",
    "y_pred_series.plot()\n",
    "plt.ylabel(\"Predicted 7 Day Close Price Change Percent\")\n",
    "plt.show()"
   ]
  },
  {
   "cell_type": "code",
   "execution_count": null,
   "metadata": {
    "colab": {
     "base_uri": "https://localhost:8080/"
    },
    "id": "833WdBuISGro",
    "outputId": "293a6bdd-a2c9-48da-cdae-1d6adfb093a1"
   },
   "outputs": [],
   "source": [
    "y_pred_series"
   ]
  },
  {
   "cell_type": "code",
   "execution_count": null,
   "metadata": {
    "colab": {
     "base_uri": "https://localhost:8080/"
    },
    "id": "tfxkCSUqQW2w",
    "outputId": "ecf76092-57a6-48aa-e625-cb5bd9f91cff"
   },
   "outputs": [],
   "source": [
    "#Model evaluation\n",
    "#Use the scikit-learn metrics module to calculate the MAE, MSE, and RMSE and then print them out.\n",
    "print('Mean Absolute Error:', metrics.mean_absolute_error(y_test, y_pred))\n",
    "print('Mean Squared Error:', metrics.mean_squared_error(y_test, y_pred))\n",
    "print('Root Mean Squared Error:', np.sqrt(metrics.mean_squared_error(y_test, y_pred)))"
   ]
  },
  {
   "cell_type": "markdown",
   "metadata": {
    "id": "4x0qtnbDRbAj"
   },
   "source": [
    "we built this model to estimate the percentage of the price change for a stock based on the recent price movement reflected by the moving average, RSI, and volumes. This estimation of the price change percentage can help us to plan for our investment strategy to reduce the risk."
   ]
  },
  {
   "cell_type": "markdown",
   "metadata": {
    "id": "CLo69alhRmZZ"
   },
   "source": [
    "Conbine historical close price with ARIMA predict close price"
   ]
  },
  {
   "cell_type": "code",
   "execution_count": null,
   "metadata": {
    "colab": {
     "base_uri": "https://localhost:8080/"
    },
    "id": "qabXNY4NQzO0",
    "outputId": "1685216d-c81b-4140-d960-e0aedcbc19ee"
   },
   "outputs": [],
   "source": [
    "#Origal Close Price\n",
    "close_hist = df['Close']\n",
    "close_hist.tail()"
   ]
  },
  {
   "cell_type": "code",
   "execution_count": null,
   "metadata": {
    "colab": {
     "base_uri": "https://localhost:8080/"
    },
    "id": "xiRdeZDISWbc",
    "outputId": "ec01020c-76b9-4e14-9dc3-3f55c2d031ad"
   },
   "outputs": [],
   "source": [
    "#Display ARIMA predition\n",
    "predict_7days = predict_7days[\"Predict Price\"]\n",
    "predict_7days"
   ]
  },
  {
   "cell_type": "code",
   "execution_count": null,
   "metadata": {
    "colab": {
     "base_uri": "https://localhost:8080/"
    },
    "id": "o2l6pr-gSYIf",
    "outputId": "744d26c6-e8e6-4c58-912b-42ebe687fbac"
   },
   "outputs": [],
   "source": [
    "#Concat two dataframes\n",
    "closehis_and_predict7days = pd.concat(\n",
    "    [close_hist, predict_7days], axis=\"rows\", join=\"inner\"\n",
    ")\n",
    "closehis_and_predict7days"
   ]
  },
  {
   "cell_type": "code",
   "execution_count": null,
   "metadata": {
    "colab": {
     "base_uri": "https://localhost:8080/",
     "height": 482
    },
    "id": "bLmswoV5SaVr",
    "outputId": "28435e94-d944-4dfd-cf9c-7d3264886f1d"
   },
   "outputs": [],
   "source": [
    "#Plot\n",
    "closehis_and_predict7days.plot()"
   ]
  },
  {
   "cell_type": "markdown",
   "metadata": {
    "id": "G7WRjfOESf4C"
   },
   "source": [
    "#Bollinger Band trading signal "
   ]
  },
  {
   "cell_type": "code",
   "execution_count": null,
   "metadata": {
    "colab": {
     "base_uri": "https://localhost:8080/",
     "height": 447
    },
    "id": "frUu0E-iSck0",
    "outputId": "cc284ae7-403c-49b6-b925-9c0cbdc9cb3b"
   },
   "outputs": [],
   "source": [
    "# Add the column name\n",
    "closehis_and_predict7days = pd.DataFrame(closehis_and_predict7days,columns = ['Close'])\n",
    "closehis_and_predict7days"
   ]
  },
  {
   "cell_type": "code",
   "execution_count": null,
   "metadata": {
    "colab": {
     "base_uri": "https://localhost:8080/",
     "height": 447
    },
    "id": "pUZawAtSSoDO",
    "outputId": "ff3f950b-305f-483d-fee3-c37677343b8f"
   },
   "outputs": [],
   "source": [
    "df =closehis_and_predict7days\n",
    "df"
   ]
  },
  {
   "cell_type": "code",
   "execution_count": null,
   "metadata": {
    "colab": {
     "base_uri": "https://localhost:8080/",
     "height": 234
    },
    "id": "1cEJb2NJSqDz",
    "outputId": "7697e83a-a891-46e4-8b21-18e808bd8258"
   },
   "outputs": [],
   "source": [
    "# Calculate rolling mean, rollingstd\n",
    "df['MA20'] = df[\"Close\"].rolling(20).mean()\n",
    "df['20dSTD'] = df[\"Close\"].rolling(20).std()\n",
    "\n",
    "#Calculate rolling upper, rollng lower\n",
    "df['Upper_BB'] = df['MA20'] + (df['20dSTD'] * 2)\n",
    "df['Lower_BB'] = df['MA20'] - (df['20dSTD'] * 2)\n",
    "\n",
    "df.tail()"
   ]
  },
  {
   "cell_type": "code",
   "execution_count": null,
   "metadata": {
    "colab": {
     "base_uri": "https://localhost:8080/",
     "height": 489
    },
    "id": "x2vyfwhiSro6",
    "outputId": "753951a9-04bc-444a-832b-92a4bbaade70"
   },
   "outputs": [],
   "source": [
    "#Plot Bollinger Bands\n",
    "df[['Close','MA20','Upper_BB','Lower_BB',\"20dSTD\"]].plot(figsize=(20, 10))\n",
    "plt.grid(True)\n",
    "plt.title(ticker + ' Bollinger Bands')\n",
    "plt.axis('tight')\n",
    "plt.ylabel('Price')"
   ]
  },
  {
   "cell_type": "code",
   "execution_count": null,
   "metadata": {
    "id": "9s1EenQNSuH8"
   },
   "outputs": [],
   "source": [
    "#Define data\n",
    "data=df.Close"
   ]
  },
  {
   "cell_type": "code",
   "execution_count": null,
   "metadata": {
    "id": "i5n0Go2ESwIJ"
   },
   "outputs": [],
   "source": [
    "# Creating the Trading Strategy, define buy/sell signal\n",
    "def implement_bb_strategy(data, Lower_BB, Upper_BB):\n",
    "    buy_price = []\n",
    "    sell_price = []\n",
    "    bb_signal = []\n",
    "    signal = 0\n",
    "    \n",
    "    for i in range(len(data)):\n",
    "        if data[i-1] > Lower_BB[i-1] and data[i] < Lower_BB[i]:\n",
    "            if signal != 1:\n",
    "                buy_price.append(data[i])\n",
    "                sell_price.append(np.nan)\n",
    "                signal = 1\n",
    "                bb_signal.append(signal)\n",
    "            else:\n",
    "                buy_price.append(np.nan)\n",
    "                sell_price.append(np.nan)\n",
    "                bb_signal.append(0)\n",
    "        elif data[i-1] < Upper_BB[i-1] and data[i] > Upper_BB[i]:\n",
    "            if signal != -1:\n",
    "                buy_price.append(np.nan)\n",
    "                sell_price.append(data[i])\n",
    "                signal = -1\n",
    "                bb_signal.append(signal)\n",
    "            else:\n",
    "                buy_price.append(np.nan)\n",
    "                sell_price.append(np.nan)\n",
    "                bb_signal.append(0)\n",
    "        else:\n",
    "            buy_price.append(np.nan)\n",
    "            sell_price.append(np.nan)\n",
    "            bb_signal.append(0)\n",
    "            \n",
    "    return buy_price, sell_price, bb_signal\n",
    "\n",
    "buy_price, sell_price, bb_signal = implement_bb_strategy(df['Close'], df['Lower_BB'], df['Upper_BB'])\n"
   ]
  },
  {
   "cell_type": "code",
   "execution_count": null,
   "metadata": {
    "colab": {
     "base_uri": "https://localhost:8080/",
     "height": 470
    },
    "id": "sabUorWVSylV",
    "outputId": "ddb77816-8bcd-4620-dbd5-fb3ef7518dae"
   },
   "outputs": [],
   "source": [
    "# Set the plot\n",
    "plt.figure(figsize=(20,10))\n",
    "df['Close'].plot(label = 'CLOSE PRICES', alpha = 0.3)\n",
    "df['Upper_BB'].plot(label = 'UPPER BB', linestyle = '--', linewidth = 1, color = 'black')\n",
    "df['MA20'].plot(label = 'MIDDLE BB', linestyle = '--', linewidth = 1.2, color = 'grey')\n",
    "df['Lower_BB'].plot(label = 'LOWER BB', linestyle = '--', linewidth = 1, color = 'black')\n",
    "plt.scatter(df.index, buy_price, marker = '^', color = 'green', label = 'BUY', s = 200)\n",
    "plt.scatter(df.index, sell_price, marker = 'v', color = 'red', label = 'SELL', s = 200)\n",
    "plt.ylabel('Close Price', fontsize = 15 )\n",
    "plt.title('Bollinger Bands Strategy Trading Signals')\n",
    "plt.legend(loc = 'upper left')\n",
    "plt.show()"
   ]
  },
  {
   "cell_type": "markdown",
   "metadata": {
    "id": "93SpUSeAS1BU"
   },
   "source": [
    "#Moving Average Crossover trading signal"
   ]
  },
  {
   "cell_type": "code",
   "execution_count": null,
   "metadata": {
    "colab": {
     "base_uri": "https://localhost:8080/",
     "height": 234
    },
    "id": "su5X3zLyS5MQ",
    "outputId": "6f9c24a6-e439-40ba-d4f3-8ba23ee73548"
   },
   "outputs": [],
   "source": [
    "# Set the short window and long windows\n",
    "short_window = 20\n",
    "long_window = 50\n",
    "\n",
    "# Generate the short and long moving averages (20 and 50 days, respectively)\n",
    "df[\"20_SMA\"] = df[\"Close\"].rolling(window=short_window,min_periods =1).mean()\n",
    "df[\"50_SMA\"] = df[\"Close\"].rolling(window=long_window,min_periods =1).mean()\n",
    "df[\"Signal\"] = 0.0\n",
    "\n",
    "# Generate the trading signal 0 or 1,\n",
    "# where 0 is when the SMA20 is under the SMA50, and\n",
    "# where 1 is when the SMA20 is higher (or crosses over) the SMA50\n",
    "df[\"Signal\"][short_window:] = np.where(\n",
    "    df[\"20_SMA\"][short_window:] > df[\"50_SMA\"][short_window:], 1.0, 0.0\n",
    ")\n",
    "\n",
    "# Calculate the points in time at which a position should be taken, 1 or -1\n",
    "df[\"Position\"] = df[\"Signal\"].diff()\n",
    "df.tail()"
   ]
  },
  {
   "cell_type": "code",
   "execution_count": null,
   "metadata": {
    "colab": {
     "base_uri": "https://localhost:8080/",
     "height": 612
    },
    "id": "MD5C7O_iS91V",
    "outputId": "78fa668a-6ded-45a6-f6e1-05aef0fd21ff"
   },
   "outputs": [],
   "source": [
    "# plot ‘buy’ and 'sell' signals\n",
    "plt.figure(figsize = (20,10))\n",
    "# plot close price, short-term and long-term moving averages \n",
    "df['Close'].plot(color = 'k', label= 'Close') \n",
    "df['20_SMA'].plot(color ='b',label = '20-day SMA') \n",
    "df['50_SMA'].plot(color ='g', label = '50-day SMA')\n",
    "# plot ‘buy’ signals\n",
    "plt.plot(df[df['Position'] == 1].index, \n",
    "         df['20_SMA'][df['Position'] == 1], \n",
    "         '^', markersize = 15, color = 'g', label = 'BUY')\n",
    "# plot ‘sell’ signals\n",
    "plt.plot(df[df['Position'] == -1].index, \n",
    "         df['20_SMA'][df['Position'] == -1], \n",
    "         'v', markersize = 15, color = 'r', label = 'SELL')\n",
    "plt.ylabel('Close Price', fontsize = 15 )\n",
    "plt.title('Moving Average Crossover Strategy Trading Signals', fontsize = 20)\n",
    "plt.legend()\n",
    "plt.grid()\n",
    "plt.show()"
   ]
  },
  {
   "cell_type": "markdown",
   "metadata": {
    "id": "Cas5YHMJU671"
   },
   "source": [
    "#References:\n",
    "\n",
    "\n",
    "1.   [Data Project - Stock Market Analysis](https://www.kaggle.com/faressayah/stock-market-analysis-prediction-using-lstm)\n",
    "2.   Algorithmic Trading with Bollinger Bands in Python[link text](https://medium.com/codex/algorithmic-trading-with-bollinger-bands-in-python-1b0a00c9ef99)\n",
    "3.  Generating Trade Signals using Moving Average(MA) Crossover Strategy — A Python implementation[link text](https://towardsdatascience.com/making-a-trade-call-using-simple-moving-average-sma-crossover-strategy-python-implementation-29963326da7a)\n",
    "\n",
    "\n",
    "\n",
    "\n",
    "\n",
    "\n",
    "\n"
   ]
  }
 ],
 "metadata": {
  "colab": {
   "collapsed_sections": [],
   "name": "GitHub Version - THE DENARII TRADER",
   "provenance": []
  },
  "kernelspec": {
   "display_name": "Python [conda env:pyviz] *",
   "language": "python",
   "name": "conda-env-pyviz-py"
  },
  "language_info": {
   "codemirror_mode": {
    "name": "ipython",
    "version": 3
   },
   "file_extension": ".py",
   "mimetype": "text/x-python",
   "name": "python",
   "nbconvert_exporter": "python",
   "pygments_lexer": "ipython3",
   "version": "3.7.10"
  }
 },
 "nbformat": 4,
 "nbformat_minor": 4
}
